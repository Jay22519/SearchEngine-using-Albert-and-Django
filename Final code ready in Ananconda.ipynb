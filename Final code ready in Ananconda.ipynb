{
 "cells": [
  {
   "cell_type": "code",
   "execution_count": 1,
   "metadata": {},
   "outputs": [],
   "source": [
    "import re\n",
    "from collections import Counter\n",
    "import pandas as pd \n",
    "import numpy as np\n",
    "\n",
    "\n",
    "\n",
    "\n",
    "import nltk\n",
    "from nltk.corpus import stopwords\n",
    "stop = stopwords.words('english')\n",
    "\n",
    "\n",
    "\n",
    "\n",
    "\n",
    "import difflib\n",
    "\n",
    "\n",
    "\n",
    "import math\n",
    "WORD = re.compile(r\"\\w+\") \n",
    "\n",
    "\n"
   ]
  },
  {
   "cell_type": "code",
   "execution_count": 2,
   "metadata": {},
   "outputs": [],
   "source": [
    "def words(text): return re.findall(r'\\w+', text.lower())"
   ]
  },
  {
   "cell_type": "code",
   "execution_count": 3,
   "metadata": {},
   "outputs": [],
   "source": [
    "data = pd.read_csv(\"D:/Indian Personality/first10100.csv\") "
   ]
  },
  {
   "cell_type": "code",
   "execution_count": 4,
   "metadata": {},
   "outputs": [],
   "source": [
    "data_categories = data['Categories']\n",
    "title = data['Title']\n",
    "content = data['Content']"
   ]
  },
  {
   "cell_type": "code",
   "execution_count": 5,
   "metadata": {},
   "outputs": [],
   "source": [
    "\"\"\"\n",
    "Now we'll convert data_categories into proper list to be used \n",
    "\"\"\"\n",
    "\n",
    "def to_list(s) :\n",
    "    s = s.replace(\"[\",\"\")\n",
    "    s = s.replace(\"]\",\"\")\n",
    "    s = s.replace(\"'\",\"\")\n",
    "    s = s.replace(\"'\",\"\")\n",
    "    \n",
    "    return list(s.split(\",\"))"
   ]
  },
  {
   "cell_type": "code",
   "execution_count": 6,
   "metadata": {},
   "outputs": [
    {
     "name": "stderr",
     "output_type": "stream",
     "text": [
      "<timed exec>:2: SettingWithCopyWarning: \n",
      "A value is trying to be set on a copy of a slice from a DataFrame\n",
      "\n",
      "See the caveats in the documentation: https://pandas.pydata.org/pandas-docs/stable/user_guide/indexing.html#returning-a-view-versus-a-copy\n"
     ]
    },
    {
     "name": "stdout",
     "output_type": "stream",
     "text": [
      "Wall time: 1.39 s\n"
     ]
    }
   ],
   "source": [
    "%%time \n",
    "\n",
    "\n",
    "for i in range(10088) :\n",
    "    data_categories[i] = to_list(data_categories[i])"
   ]
  },
  {
   "cell_type": "code",
   "execution_count": 7,
   "metadata": {},
   "outputs": [],
   "source": [
    "import re\n",
    "\n",
    "# If you need to use the regex more than once it is suggested to compile it.\n",
    "pattern = re.compile(r\"[\\n]+\")\n",
    "pattern2 = re.compile(r\"[=]+\")"
   ]
  },
  {
   "cell_type": "code",
   "execution_count": 8,
   "metadata": {},
   "outputs": [
    {
     "name": "stderr",
     "output_type": "stream",
     "text": [
      "<timed exec>:2: SettingWithCopyWarning: \n",
      "A value is trying to be set on a copy of a slice from a DataFrame\n",
      "\n",
      "See the caveats in the documentation: https://pandas.pydata.org/pandas-docs/stable/user_guide/indexing.html#returning-a-view-versus-a-copy\n",
      "<timed exec>:3: SettingWithCopyWarning: \n",
      "A value is trying to be set on a copy of a slice from a DataFrame\n",
      "\n",
      "See the caveats in the documentation: https://pandas.pydata.org/pandas-docs/stable/user_guide/indexing.html#returning-a-view-versus-a-copy\n"
     ]
    },
    {
     "name": "stdout",
     "output_type": "stream",
     "text": [
      "Wall time: 7.68 s\n"
     ]
    }
   ],
   "source": [
    "%%time\n",
    "for i in range(10088) :\n",
    "    content[i] = pattern.sub(\"\",content[i])\n",
    "    content[i] = pattern2.sub(\"\",content[i])"
   ]
  },
  {
   "cell_type": "code",
   "execution_count": 9,
   "metadata": {},
   "outputs": [
    {
     "data": {
      "text/plain": [
       "179"
      ]
     },
     "execution_count": 9,
     "metadata": {},
     "output_type": "execute_result"
    }
   ],
   "source": [
    "len(stop)"
   ]
  },
  {
   "cell_type": "code",
   "execution_count": 10,
   "metadata": {},
   "outputs": [
    {
     "name": "stdout",
     "output_type": "stream",
     "text": [
      "Wall time: 9.97 s\n"
     ]
    }
   ],
   "source": [
    "%%time\n",
    "\n",
    "text = \" \"\n",
    "for i in range(10088) :\n",
    "    text += ''.join(data_categories[i])\n",
    "    \n",
    "    \n",
    "for i in range(10088) :\n",
    "    text += title[i]\n",
    "    text += \" \"\n",
    "    \n"
   ]
  },
  {
   "cell_type": "code",
   "execution_count": 11,
   "metadata": {},
   "outputs": [
    {
     "name": "stdout",
     "output_type": "stream",
     "text": [
      "Wall time: 635 ms\n"
     ]
    }
   ],
   "source": [
    "%%time\n",
    "WORDS = Counter(words(text))"
   ]
  },
  {
   "cell_type": "code",
   "execution_count": 12,
   "metadata": {},
   "outputs": [],
   "source": [
    "def correction_inside(word) :\n",
    "    words = word.split()\n",
    "    final_suggestion_list = []\n",
    "    final_suggestion_dict = {}\n",
    "    final_ans = []\n",
    "    for w in words :\n",
    "        w = w.lower()\n",
    "        cor_word = []\n",
    "        counter = 0 \n",
    "        max_score = 0 \n",
    "        text = \" \"\n",
    "        for i in WORDS :\n",
    "            i = i.lower()\n",
    "            #print(i,word)\n",
    "            #print(difflib.SequenceMatcher(None,word,i).ratio()) \n",
    "            score = difflib.SequenceMatcher(None,w,i).ratio()\n",
    "            \"\"\"\n",
    "            Apart from sending max word we'll also certain other combinations \n",
    "            \"\"\"\n",
    "                        \n",
    "            if(score > 0.7) :\n",
    "                cor_word.append(i)\n",
    "                \n",
    "            \n",
    "            \n",
    "            if(score > max_score) :\n",
    "                max_score = score \n",
    "                text = i\n",
    "        final_ans.append(text)\n",
    "        final_suggestion_dict[w] = cor_word\n",
    "                \n",
    "            \n",
    "\n",
    "        \n",
    "            \n",
    "            \n",
    "    return final_ans , final_suggestion_dict"
   ]
  },
  {
   "cell_type": "code",
   "execution_count": 13,
   "metadata": {},
   "outputs": [],
   "source": [
    "def correction(words) :\n",
    "    words = words.split(\" \")\n",
    "    word = \"\" \n",
    "    for w in words :\n",
    "        w = w.lower()\n",
    "        if w not in stop :\n",
    "            word += w\n",
    "            word += \" \"\n",
    "    #print(\"Input query  \",word)\n",
    "    correct_word , suggestions = correction_inside(word) \n",
    "    print(\"Searching for .......    \",correct_word,\"\\n\")\n",
    "    print(\"Here is the list of similar words you may be looking for ...............\\n\")\n",
    "    for k in suggestions :\n",
    "        print(k,\"    \",suggestions[k],\"\\n\")\n",
    "    \n",
    "    \n",
    "    print(\"If the suggestion is correct then press continue otherwise you can research your query\")\n",
    "    return correct_word"
   ]
  },
  {
   "cell_type": "code",
   "execution_count": 14,
   "metadata": {},
   "outputs": [
    {
     "name": "stdout",
     "output_type": "stream",
     "text": [
      "Searching for .......     ['atal', 'bihari', 'vajpayee', 'born'] \n",
      "\n",
      "Here is the list of similar words you may be looking for ...............\n",
      "\n",
      "atal      ['patiala', 'factual', 'data', 'santali', 'martial', 'tata', 'talk', 'coastal', 'kaithal', 'capital', 'partial', 'natural', 'akal', 'catalan', 'pattali', 'iata', 'natal', 'atal', 'actual', 'rateall', 'artsall', 'atul', 'bantwal', 'bhatkal', 'mata', 'aitwal', 'amal', 'aata', 'atwal', 'paintal', 'bhattal', 'atrauli', 'tala', 'ajitpal', 'ratilal', 'lata', 'katchal', 'mathpal', 'batalvi', 'satpal', 'matilal', 'vatsal', 'vatal'] \n",
      "\n",
      "vihari      ['bihar', 'motihari', 'bihari', 'tihar', 'hari', 'vaishali', 'niharika', 'kavishar', 'bhikhari', 'avari', 'virji', 'srihari', 'vinubhai', 'vibha', 'ishar'] \n",
      "\n",
      "vajpayee      ['jaypee', 'vajpayee', 'jayee'] \n",
      "\n",
      "born      ['korn', 'osborne', 'horn', 'bryn', 'boer', 'bone', 'borneo', 'born', 'bora', 'bond', 'boro'] \n",
      "\n",
      "If the suggestion is correct then press continue otherwise you can research your query\n"
     ]
    },
    {
     "data": {
      "text/plain": [
       "['atal', 'bihari', 'vajpayee', 'born']"
      ]
     },
     "execution_count": 14,
     "metadata": {},
     "output_type": "execute_result"
    }
   ],
   "source": [
    "correction(\"When was Atal Vihari Vajpayee born\")"
   ]
  },
  {
   "cell_type": "code",
   "execution_count": null,
   "metadata": {},
   "outputs": [],
   "source": []
  },
  {
   "cell_type": "markdown",
   "metadata": {},
   "source": [
    "##### Keywords  "
   ]
  },
  {
   "cell_type": "code",
   "execution_count": 15,
   "metadata": {},
   "outputs": [
    {
     "name": "stdout",
     "output_type": "stream",
     "text": [
      "Wall time: 4.9 s\n"
     ]
    }
   ],
   "source": [
    "%%time\n",
    "\n",
    "### Keyword will store all keywords \n",
    "\n",
    "keyword = [0 for i in range(10000000)]\n",
    "counter = 0\n",
    "for i in range(10088) :\n",
    "    keyword[counter] = title[i].lower()\n",
    "    counter += 1 \n",
    "    \n",
    "for i in range(10088) :\n",
    "    for j in range(len(data_categories[i])) :\n",
    "        keyword[counter] = data_categories[i][j].lower()\n",
    "        counter += 1 \n"
   ]
  },
  {
   "cell_type": "code",
   "execution_count": 16,
   "metadata": {},
   "outputs": [
    {
     "data": {
      "text/plain": [
       "'when was atal vihari vajpayee born'"
      ]
     },
     "execution_count": 16,
     "metadata": {},
     "output_type": "execute_result"
    }
   ],
   "source": [
    "\"When was Atal Vihari Vajpayee born\".lower()"
   ]
  },
  {
   "cell_type": "code",
   "execution_count": 17,
   "metadata": {},
   "outputs": [
    {
     "name": "stdout",
     "output_type": "stream",
     "text": [
      "atal bihari vajpayee\n",
      "ay\n",
      "bihar\n",
      " bihar\n",
      " bihar\n",
      " bihar\n",
      " atal bihari vajpayee\n",
      " atal bihari vajpayee\n",
      " bihar\n",
      " bihar\n",
      " bihar\n",
      " bihar\n",
      " bihar\n",
      " bihar\n"
     ]
    }
   ],
   "source": [
    "for i in range(counter) :\n",
    "    if keyword[i] in \"When was Atal Bihari Vajpayee born\".lower() :\n",
    "        print(keyword[i])"
   ]
  },
  {
   "cell_type": "code",
   "execution_count": 18,
   "metadata": {},
   "outputs": [
    {
     "name": "stdout",
     "output_type": "stream",
     "text": [
      "37199\n"
     ]
    }
   ],
   "source": [
    "keyword = keyword[:counter]\n",
    "keyword = list(set(keyword))\n",
    "counter = len(keyword)\n",
    "print(counter)"
   ]
  },
  {
   "cell_type": "code",
   "execution_count": 141,
   "metadata": {},
   "outputs": [],
   "source": [
    "def find_relevant_page(query) :\n",
    "    query = query.lower()\n",
    "    keyword_list = [0 for I in range(10000)]\n",
    "    counterL = 0 \n",
    "    for i in range(counter) :\n",
    "        if keyword[i] in query :\n",
    "            #print(keyword[i])\n",
    "            keyword_list[counterL] = keyword[i]\n",
    "            counterL += 1\n",
    "    return list(set(keyword_list[:counterL]))\n",
    "\n",
    "def is_title_imp(query) :\n",
    "    query = query.lower()\n",
    "    keyword_list = [0 for I in range(10000)]\n",
    "    counterL = 0 \n",
    "    for i in range(10088) :\n",
    "        if title[i].lower() in query :\n",
    "            #print(keyword[i])\n",
    "            for j in range(len(data_categories[i])) :\n",
    "                if 'births' in data_categories[i][j].lower() :\n",
    "                    keyword_list[counterL] = title[i]\n",
    "                    counterL += 1\n",
    "                    print(\"Added .......\",title[i],\"\\n\")\n",
    "                    break \n",
    "                    \n",
    "                if 'deaths' in data_categories[i][j].lower() :\n",
    "                    keyword_list[counterL] = title[i]\n",
    "                    counterL += 1\n",
    "                    print(\"Added .......\",title[i],\"\\n\")\n",
    "                    \n",
    "    \n",
    "    return list(set(keyword_list[:counterL]))\n",
    "\n",
    "\n",
    "\n",
    "def find_keyword(query) :\n",
    "    List = is_title_imp(query) \n",
    "    if( not len(List)) :\n",
    "        print(\"No title found .........................\\n\\n\")\n",
    "        List = find_relevant_page(query)\n",
    "    #### Removing the keyword \"Who\" from it \n",
    "    if \"who\" in List :\n",
    "        List.remove(\"who\")\n",
    "    return List\n",
    "            \n",
    "   "
   ]
  },
  {
   "cell_type": "markdown",
   "metadata": {},
   "source": [
    "#### Correcting keyword part is yet to be done  "
   ]
  },
  {
   "cell_type": "code",
   "execution_count": 20,
   "metadata": {},
   "outputs": [],
   "source": [
    "def unique(keywords):\n",
    "    keys = []\n",
    "    for s in keywords:\n",
    "        if not any([s in r for r in keywords if s != r]):\n",
    "            keys.append(s)\n",
    "    \n",
    "    return keys"
   ]
  },
  {
   "cell_type": "code",
   "execution_count": 21,
   "metadata": {},
   "outputs": [
    {
     "name": "stdout",
     "output_type": "stream",
     "text": [
      "No title found .........................\n",
      "\n",
      "\n"
     ]
    },
    {
     "data": {
      "text/plain": [
       "[' maharashtra', 'bharat ratna']"
      ]
     },
     "execution_count": 21,
     "metadata": {},
     "output_type": "execute_result"
    }
   ],
   "source": [
    "imp_keywords = unique(find_keyword(\"list of bharat ratna from maharashtra\"))\n",
    "imp_keywords "
   ]
  },
  {
   "cell_type": "code",
   "execution_count": null,
   "metadata": {},
   "outputs": [],
   "source": []
  },
  {
   "cell_type": "markdown",
   "metadata": {},
   "source": [
    "#### Finding all relevant pages  "
   ]
  },
  {
   "cell_type": "code",
   "execution_count": 22,
   "metadata": {},
   "outputs": [],
   "source": [
    "def get_cosine(vec1, vec2):\n",
    "    intersection = set(vec1.keys()) & set(vec2.keys())\n",
    "    numerator = sum([vec1[x] * vec2[x] for x in intersection])\n",
    "\n",
    "    sum1 = sum([vec1[x] ** 2 for x in list(vec1.keys())])\n",
    "    sum2 = sum([vec2[x] ** 2 for x in list(vec2.keys())])\n",
    "    denominator = math.sqrt(sum1) * math.sqrt(sum2)\n",
    "\n",
    "    if not denominator:\n",
    "        return 0.0\n",
    "    else:\n",
    "        return float(numerator) / denominator\n",
    "\n",
    "\n",
    "def text_to_vector(text):\n",
    "    words = WORD.findall(text)\n",
    "    return Counter(words)"
   ]
  },
  {
   "cell_type": "code",
   "execution_count": 23,
   "metadata": {},
   "outputs": [
    {
     "name": "stdout",
     "output_type": "stream",
     "text": [
      "Wall time: 7.42 s\n"
     ]
    }
   ],
   "source": [
    "%%time\n",
    "for i in range(10088) :\n",
    "    ## Converting all cat of this title to lower \n",
    "    for j in range(len(data_categories[i])) :\n",
    "        data_categories[i][j] = data_categories[i][j].lower()"
   ]
  },
  {
   "cell_type": "code",
   "execution_count": 80,
   "metadata": {},
   "outputs": [],
   "source": [
    "def content_find(keywords) :\n",
    "    \n",
    "    print(\"Case 0\\n\")\n",
    "    contentZero = [0 for i in range(10088)]\n",
    "    contentLent = 0 \n",
    "    for i in range(10088) :\n",
    "        if keywords[0].lower() == title[i].lower() :\n",
    "            contentZero[contentLent] = content[i].lower() \n",
    "            contentLent += 1\n",
    "    if(contentLent) :\n",
    "        return contentZero[:contentLent] , 1\n",
    "    \n",
    "    contents = {}\n",
    "    content_final = [0 for i in range(1000)]\n",
    "    final_counter =  0 \n",
    "    \n",
    "    \n",
    "    list_of_title = [0 for i in range(100088)] \n",
    "    counterL = 0 \n",
    "    done = 0 # Done is 1 if we have got titles matching keywords \n",
    "    ## First looking for any title matching [But only if number of keywords is 1]\n",
    "    if(len(keywords) == 1) :\n",
    "        print(\"Case 1\")\n",
    "        for i in range(10088) :\n",
    "            if keywords[0].lower() in title[i].lower() :\n",
    "                print(title[i].lower(),\" and index is \",i,\"\\n\")\n",
    "                done = 1\n",
    "                contents[get_cosine(text_to_vector(keywords[0]),text_to_vector(title[i]))] = (content[i],title[i])\n",
    "                    \n",
    "        \n",
    "        l = list(contents.items())\n",
    "        l.sort(reverse=True)\n",
    "        contents = dict(l)\n",
    "       # print(\"Sorted and converted to dictionary again \")\n",
    "        only5 = 0 \n",
    "        for k in contents :\n",
    "            only5+=1 \n",
    "            content_final[final_counter] = contents[k][0]\n",
    "            final_counter += 1\n",
    "            #print(\"Content and title are  ..........\",contents[k][0],\"\\n\\n\\n\",contents[k][1])\n",
    "            if(only5 == 5) :\n",
    "                break \n",
    "        if(done == 1 ) :\n",
    "            return content_final[:final_counter] ,1 \n",
    "    \n",
    "    \n",
    "    ### The case we'll have to return list of answer is left \n",
    "    index_title = [0 for i in range(100088)] \n",
    "    \n",
    "    if(done == 0) :\n",
    "        print(\"Case 2 \")\n",
    "        all_titles = [0 for i in range(10088)]\n",
    "        for i in range(10088) : \n",
    "            done = 0 \n",
    "            lenK = len(keywords)\n",
    "            for k in range(lenK) :\n",
    "                for z in range(len(data_categories[i])) :\n",
    "                    if keywords[k] in data_categories[i][z].lower() :\n",
    "                        done += 1 \n",
    "                        break \n",
    "            if(done == lenK) :\n",
    "                list_of_title[counterL] = title[i] \n",
    "                index_title[counterL] = i\n",
    "                counterL += 1 \n",
    "                print(\"Title added is ...................\",title[i])\n",
    "        if(counterL < 4) :\n",
    "            print(\"Inside here\")\n",
    "            for i in range(4) :\n",
    "                content_final[final_counter] = content[index_title[i]]\n",
    "                print(content_final[final_counter])\n",
    "                final_counter += 1 \n",
    "            return content_final[:final_counter] , 1\n",
    "            \n",
    "            \n",
    "        return list_of_title[:counterL],2\n"
   ]
  },
  {
   "cell_type": "code",
   "execution_count": 25,
   "metadata": {},
   "outputs": [
    {
     "name": "stdout",
     "output_type": "stream",
     "text": [
      "Case 1\n",
      "kalpana chawla  and index is  9779 \n",
      "\n"
     ]
    }
   ],
   "source": [
    "sample_key = ['kalpana chawla']\n",
    "\n",
    "content_list , number = content_find(sample_key)"
   ]
  },
  {
   "cell_type": "code",
   "execution_count": 26,
   "metadata": {},
   "outputs": [],
   "source": [
    "def all_preprocessing(query) :\n",
    "    query = query.lower()\n",
    "    ##Spelling correction \n",
    "    correct = correction(query) \n",
    "    done = int(input()) \n",
    "    while(not done) :\n",
    "        print(\"Input your query again .......................\")\n",
    "        query = input(query)\n",
    "        #correct = correction(query)\n",
    "        done = int(input())\n",
    "    imp_keywords,num = unique(find_keyword(query))\n",
    "    #### Removing the extra ' ' from front from all keywords \n",
    "    for i in range(len(imp_keywords)) :\n",
    "        if(imp_keywords[i][0] == ' ') :\n",
    "            #print(imp_keywords[i])\n",
    "            imp_keywords[i] = imp_keywords[i][1:] \n",
    "    print(\"imp keyword is ................\",imp_keywords)\n",
    "    content_list , number = content_find(imp_keywords)\n",
    "    \n",
    "    return content_list , number \n",
    "\n",
    "    "
   ]
  },
  {
   "cell_type": "code",
   "execution_count": 27,
   "metadata": {},
   "outputs": [
    {
     "name": "stdout",
     "output_type": "stream",
     "text": [
      "Searching for .......     ['kalpana', 'chawla', 'spoken'] \n",
      "\n",
      "Here is the list of similar words you may be looking for ...............\n",
      "\n",
      "kalpana      ['maulana', 'kala', 'kalakar', 'apna', 'albania', 'nalanda', 'kalyani', 'kalpana', 'kaalapani', 'pallana', 'kalyan', 'kapadia', 'aparna', 'kalpen', 'kalpeni', 'kaliprasanna', 'kalpnath', 'kalanaur', 'kalyana', 'kalipada', 'kalakankar', 'kapany', 'kalanath', 'kangana'] \n",
      "\n",
      "chawla      ['chalukya', 'chautala', 'chola', 'hawai', 'chakwal', 'chawla', 'chaliha', 'hala', 'chandela', 'chamkila', 'chandola'] \n",
      "\n",
      "spoke      ['spoken', 'spikes', 'smoked', 'poker', 'stokes', 'ashoke'] \n",
      "\n",
      "If the suggestion is correct then press continue otherwise you can research your query\n",
      "1\n",
      "No title found .........................\n",
      "\n",
      "\n",
      "imp keyword is ................ ['kalpana chawla']\n",
      "Case 1\n",
      "kalpana chawla  and index is  9779 \n",
      "\n"
     ]
    }
   ],
   "source": [
    "query = \"What kalpana chawla spoke\"\n",
    "Con_list , num_type = all_preprocessing(query)"
   ]
  },
  {
   "cell_type": "code",
   "execution_count": 28,
   "metadata": {},
   "outputs": [
    {
     "data": {
      "text/plain": [
       "['Kalpana Chawla (17 March 1962 – 1 February 2003) was an American astronaut, engineer, and the first woman of Indian origin to go to space. She first flew on Space Shuttle Columbia in 1997 as a mission specialist and primary robotic arm operator. In 2003, Chawla was one of the seven crew members who died in the Space Shuttle Columbia disaster when the spacecraft disintegrated during its re-entry into the Earth\\'s atmosphere. Chawla was posthumously awarded the Congressional Space Medal of Honor, and several streets, universities, and institutions have been named in her honor. She is regarded as a national hero in India. Early life Kalpana Chawla was born on 17 March 1962, in Karnal of present-day Haryana, India, but her official date of birth was altered to 1 July 1961, to allow her to become eligible for the matriculation exam. As a child, she was fascinated by aeroplanes and flying. She went to local flying clubs and watched planes with her father. After getting a Bachelor of Engineering degree in Aeronautical Engineering from Punjab Engineering College, India, she moved to the United States in 1982 and obtained a Master of Science degree in Aerospace Engineering from the University of Texas at Arlington in 1984. Chawla went on to earn a second Masters in 1986 and a PhD in aerospace engineering in 1988 from the University of Colorado Boulder.Chawla was married to Jean-Pierre Harrison. Career In 1988, she began working at NASA Ames Research Center, where she did computational fluid dynamics (CFD) research on vertical and/or short take-off and landing (V/STOL) concepts. Much of Chawla\\'s research is included in technical journals and conference papers. In 1993, she joined Overset Methods, Inc. as Vice President and Research Scientist specializing in simulation of moving multiple body problems. Chawla held a Certificated Flight Instructor rating for airplanes, gliders and Commercial Pilot licenses for single and multi-engine airplanes, seaplanes and gliders. After becoming a naturalized U.S. citizen in April 1991, Chawla applied for the NASA Astronaut Corps. She joined the corps in March 1995 and was selected for her first flight in 1996. First space mission Her first space mission began on 19 November 1997, as part of the six-astronaut crew that flew the Space Shuttle Columbia flight STS-87. Chawla was the first Indian woman to fly in space. She spoke the following words while traveling in the weightlessness of space, \"You are just your intelligence.\" On her first mission, Chawla traveled over 10.4 million miles (16737177.6 km) in 252 orbits of the earth, logging more than 372 hours (15 days and 12 hours) in space. During STS-87, she was responsible for deploying the Spartan Satellite which malfunctioned, necessitating a spacewalk by Winston Scott and Takao Doi to capture the satellite. A five-month NASA investigation fully exonerated Chawla by identifying errors in software interfaces and the defined procedures of the flight crew and ground control. After the completion of STS-87 post-flight activities, Chawla was assigned to technical positions in the astronaut office to work on the space station. Second space mission In 2001, Chawla was selected for her second flight as part of the crew of STS-107. This mission was repeatedly delayed due to scheduling conflicts and technical problems such as the July 2002 discovery of cracks in the shuttle engine flow liners. On 16 January 2003, Chawla finally returned to space aboard Space Shuttle Columbia on the ill-fated STS-107 mission. The crew performed nearly 80 experiments studying Earth and space science, advanced technology development, and astronaut health and safety. During the launch of STS-107, Columbia\\'s 28th mission, a piece of foam insulation broke off from the Space Shuttle external tank and struck the left-wing of the orbiter. Previous shuttle launches had seen minor damage from foam shedding, but some engineers suspected that the damage to Columbia was more serious. NASA managers limited the investigation, reasoning that the crew could not have fixed the problem if it had been confirmed. When Columbia re-entered the atmosphere of Earth, the damage allowed hot atmospheric gases to penetrate and destroy the internal wing structure, which caused the spacecraft to become unstable and break apart. After the disaster, Space Shuttle flight operations were suspended for more than two years, similar to the aftermath of the Challenger disaster. Construction of the International Space Station (ISS) was put on hold; the station relied entirely on the Russian Roscosmos State Corporation for resupply for 29 months until Shuttle flights resumed with STS-114 and 41 months for crew rotation.Chawla died on 1 February 2003, in the Space Shuttle Columbia disaster, along with the other six crew members, when the Columbia disintegrated over Texas during re-entry into the Earth\\'s atmosphere, shortly before it was scheduled to conclude its 28th mission, STS-107. Her remains were identified along with those of the rest of the crew members and were cremated and scattered at Zion National Park in Utah in accordance with her wishes. Honors and recognition The fourteenth contracted Northrop Grumman Cygnus spacecraft mission delivering supplies to the ISS was named the \"S.S. Kalpana Chawla\" after her.Asteroid 51826 Kalpana chawla, one of seven named after the Columbia\\'s crew.On 5 February 2003, the Prime Minister of India, Atal Bihari Vajpayee announced that the meteorological series of satellites, MetSat, was to be renamed \"Kalpana\". The first satellite of the series, \"MetSat-1\", launched by India on 12 September 2002 was renamed \"Kalpana-1\".74th Street in the \"Little India\" of Jackson Heights, Queens, New York City, New York, United States has been renamed \"Kalpana Chawla Way\" in her honor.The Kalpana Chawla Award was instituted by the Government of Karnataka in 2004 to recognize young women scientists.NASA has dedicated a supercomputer to Chawla.One of Florida Institute of Technology\\'s student apartment complexes, Columbia Village Suites, has halls named after each of the astronauts, including Chawla.The NASA Mars Exploration Rover mission has named seven peaks in a chain of hills, named the Columbia Hills, after each of the seven astronauts lost in the Columbia shuttle disaster. One of them is Chawla Hill, named after Chawla.Steve Morse from the band Deep Purple created the song \"Contact Lost\" in memory of the Columbia tragedy along with her interest in the band. The song can be found on the album Bananas.Novelist Peter David named a shuttlecraft, the Chawla, after the astronaut in his 2007 Star Trek novel, Star Trek: The Next Generation: Before Dishonor.The Kalpana Chawla ISU Scholarship fund was founded by alumni of the International Space University (ISU) in 2010 to support Indian women\\'s participation in international space education programs.The Kalpana Chawla Memorial Scholarship program was instituted by the Indian Students Association (ISA) at the University of Texas at El Paso (UTEP) in 2005 for meritorious graduate students.The Kalpana Chawla Outstanding Recent Alumni Award at the University of Colorado, given since 1983, was renamed after Chawla.The University of Texas at Arlington, where Chawla obtained a Master of Science degree in aerospace engineering in 1984, opened a dormitory named Kalpana Chawla Hall in 2004. In addition, the university dedicated the Kalpana Chawla Memorial on 3 May 2010, in Nedderman Hall, one of the primary buildings in the College of Engineering.The girls\\' hostel at Punjab Engineering College is named after Chawla. In addition, an award of INR twenty-five thousand, a medal, and a certificate is instituted for the best student in the Aeronautical Engineering department.The Government of Haryana established the Kalpana Chawla Planetarium in Jyotisar, Kurukshetra.The Indian Institute of Technology, Kharagpur, named the Kalpana Chawla Space Technology Cell in her honor.Delhi Technological University named a girls\\' hostel block after Chawla.A military housing development at Naval Air Station Patuxent River, Maryland, has been named Columbia Colony and includes a street named Chawla Way.A hostel block in Pondicherry University has been named after Chawla.Kalpana Chawla Government Medical College (KCGMC) is a Medical College located in Karnal, Haryana, India named after Chawla.The National Institute of Technology Kurukshetra named a girls\\' hostel after Chawla.The National Institute of Technology Bhopal named girl\\'s hostel named KALPANA CHAWLA BHAWAN.  See also List of Asian Americans § SpaceList of female spacefarers References  Further reading Among the Stars!: Life and Dreams of Kalpana Chawla by Gurdeep PandherIndia\\'s 50 Most Illustrious Women (ISBN 81-88086-19-3) by Indra GuptaKalpana Chawla: A Life (ISBN 0-14-333586-3) by Anil PadmanabhanThe Edge of Time: The Authoritative Biography of Kalpana Chawla (ISBN 978-0976827917) by Jean-Pierre Harrison External links \"KALPANA CHAWLA (PH.D.)\". NASA. February 2003. Retrieved 7 May 2019.NASA biography']"
      ]
     },
     "execution_count": 28,
     "metadata": {},
     "output_type": "execute_result"
    }
   ],
   "source": [
    "Con_list"
   ]
  },
  {
   "cell_type": "code",
   "execution_count": 29,
   "metadata": {},
   "outputs": [
    {
     "name": "stdout",
     "output_type": "stream",
     "text": [
      "Wall time: 34.3 s\n"
     ]
    }
   ],
   "source": [
    "%%time\n",
    "\n",
    "import torch\n",
    "from transformers import AlbertTokenizer, AlbertForQuestionAnswering\n",
    "tokenizer = AlbertTokenizer.from_pretrained('ahotrod/albert_xxlargev1_squad2_512')\n",
    "model = AlbertForQuestionAnswering.from_pretrained('D:/albert')"
   ]
  },
  {
   "cell_type": "code",
   "execution_count": 30,
   "metadata": {},
   "outputs": [],
   "source": [
    "def answer(question, text):\n",
    "    input_dict = tokenizer.encode_plus(question, text, return_tensors='pt')\n",
    "    input_ids = input_dict[\"input_ids\"].tolist()\n",
    "    start_scores, end_scores = model(**input_dict,return_dict=False)\n",
    "    \n",
    "    ##Return_dict is important \n",
    "    start = torch.argmax(start_scores)\n",
    "    end = torch.argmax(end_scores)\n",
    "    \n",
    "    #print(\"Scores are \" ,start_scores ,\" \", end_scores,\"\\n\")\n",
    "    \n",
    "    all_tokens = tokenizer.convert_ids_to_tokens(input_ids[0])\n",
    "    answer = ''.join(all_tokens[start: end + 1]).replace('▁', ' ').strip()\n",
    "    answer = answer.replace('[SEP]', '')\n",
    "    return answer if answer != '[CLS]' and len(answer) != 0 else 'could not find an answer'"
   ]
  },
  {
   "cell_type": "code",
   "execution_count": 31,
   "metadata": {},
   "outputs": [],
   "source": [
    "pattern3 = re.compile(r\"[\\n]+\")\n",
    "pattern4 = re.compile(r\"[=]+\") \n"
   ]
  },
  {
   "cell_type": "code",
   "execution_count": 32,
   "metadata": {},
   "outputs": [
    {
     "name": "stdout",
     "output_type": "stream",
     "text": [
      "Wall time: 0 ns\n"
     ]
    }
   ],
   "source": [
    "%%time\n",
    "for i in range(len(Con_list)) :\n",
    "    Con_list[i] = pattern3.sub(\"\",Con_list[i])\n",
    "    Con_list[i] = pattern4.sub(\"\",Con_list[i])"
   ]
  },
  {
   "cell_type": "code",
   "execution_count": 33,
   "metadata": {},
   "outputs": [
    {
     "data": {
      "text/plain": [
       "['Kalpana Chawla (17 March 1962 – 1 February 2003) was an American astronaut, engineer, and the first woman of Indian origin to go to space. She first flew on Space Shuttle Columbia in 1997 as a mission specialist and primary robotic arm operator. In 2003, Chawla was one of the seven crew members who died in the Space Shuttle Columbia disaster when the spacecraft disintegrated during its re-entry into the Earth\\'s atmosphere. Chawla was posthumously awarded the Congressional Space Medal of Honor, and several streets, universities, and institutions have been named in her honor. She is regarded as a national hero in India. Early life Kalpana Chawla was born on 17 March 1962, in Karnal of present-day Haryana, India, but her official date of birth was altered to 1 July 1961, to allow her to become eligible for the matriculation exam. As a child, she was fascinated by aeroplanes and flying. She went to local flying clubs and watched planes with her father. After getting a Bachelor of Engineering degree in Aeronautical Engineering from Punjab Engineering College, India, she moved to the United States in 1982 and obtained a Master of Science degree in Aerospace Engineering from the University of Texas at Arlington in 1984. Chawla went on to earn a second Masters in 1986 and a PhD in aerospace engineering in 1988 from the University of Colorado Boulder.Chawla was married to Jean-Pierre Harrison. Career In 1988, she began working at NASA Ames Research Center, where she did computational fluid dynamics (CFD) research on vertical and/or short take-off and landing (V/STOL) concepts. Much of Chawla\\'s research is included in technical journals and conference papers. In 1993, she joined Overset Methods, Inc. as Vice President and Research Scientist specializing in simulation of moving multiple body problems. Chawla held a Certificated Flight Instructor rating for airplanes, gliders and Commercial Pilot licenses for single and multi-engine airplanes, seaplanes and gliders. After becoming a naturalized U.S. citizen in April 1991, Chawla applied for the NASA Astronaut Corps. She joined the corps in March 1995 and was selected for her first flight in 1996. First space mission Her first space mission began on 19 November 1997, as part of the six-astronaut crew that flew the Space Shuttle Columbia flight STS-87. Chawla was the first Indian woman to fly in space. She spoke the following words while traveling in the weightlessness of space, \"You are just your intelligence.\" On her first mission, Chawla traveled over 10.4 million miles (16737177.6 km) in 252 orbits of the earth, logging more than 372 hours (15 days and 12 hours) in space. During STS-87, she was responsible for deploying the Spartan Satellite which malfunctioned, necessitating a spacewalk by Winston Scott and Takao Doi to capture the satellite. A five-month NASA investigation fully exonerated Chawla by identifying errors in software interfaces and the defined procedures of the flight crew and ground control. After the completion of STS-87 post-flight activities, Chawla was assigned to technical positions in the astronaut office to work on the space station. Second space mission In 2001, Chawla was selected for her second flight as part of the crew of STS-107. This mission was repeatedly delayed due to scheduling conflicts and technical problems such as the July 2002 discovery of cracks in the shuttle engine flow liners. On 16 January 2003, Chawla finally returned to space aboard Space Shuttle Columbia on the ill-fated STS-107 mission. The crew performed nearly 80 experiments studying Earth and space science, advanced technology development, and astronaut health and safety. During the launch of STS-107, Columbia\\'s 28th mission, a piece of foam insulation broke off from the Space Shuttle external tank and struck the left-wing of the orbiter. Previous shuttle launches had seen minor damage from foam shedding, but some engineers suspected that the damage to Columbia was more serious. NASA managers limited the investigation, reasoning that the crew could not have fixed the problem if it had been confirmed. When Columbia re-entered the atmosphere of Earth, the damage allowed hot atmospheric gases to penetrate and destroy the internal wing structure, which caused the spacecraft to become unstable and break apart. After the disaster, Space Shuttle flight operations were suspended for more than two years, similar to the aftermath of the Challenger disaster. Construction of the International Space Station (ISS) was put on hold; the station relied entirely on the Russian Roscosmos State Corporation for resupply for 29 months until Shuttle flights resumed with STS-114 and 41 months for crew rotation.Chawla died on 1 February 2003, in the Space Shuttle Columbia disaster, along with the other six crew members, when the Columbia disintegrated over Texas during re-entry into the Earth\\'s atmosphere, shortly before it was scheduled to conclude its 28th mission, STS-107. Her remains were identified along with those of the rest of the crew members and were cremated and scattered at Zion National Park in Utah in accordance with her wishes. Honors and recognition The fourteenth contracted Northrop Grumman Cygnus spacecraft mission delivering supplies to the ISS was named the \"S.S. Kalpana Chawla\" after her.Asteroid 51826 Kalpana chawla, one of seven named after the Columbia\\'s crew.On 5 February 2003, the Prime Minister of India, Atal Bihari Vajpayee announced that the meteorological series of satellites, MetSat, was to be renamed \"Kalpana\". The first satellite of the series, \"MetSat-1\", launched by India on 12 September 2002 was renamed \"Kalpana-1\".74th Street in the \"Little India\" of Jackson Heights, Queens, New York City, New York, United States has been renamed \"Kalpana Chawla Way\" in her honor.The Kalpana Chawla Award was instituted by the Government of Karnataka in 2004 to recognize young women scientists.NASA has dedicated a supercomputer to Chawla.One of Florida Institute of Technology\\'s student apartment complexes, Columbia Village Suites, has halls named after each of the astronauts, including Chawla.The NASA Mars Exploration Rover mission has named seven peaks in a chain of hills, named the Columbia Hills, after each of the seven astronauts lost in the Columbia shuttle disaster. One of them is Chawla Hill, named after Chawla.Steve Morse from the band Deep Purple created the song \"Contact Lost\" in memory of the Columbia tragedy along with her interest in the band. The song can be found on the album Bananas.Novelist Peter David named a shuttlecraft, the Chawla, after the astronaut in his 2007 Star Trek novel, Star Trek: The Next Generation: Before Dishonor.The Kalpana Chawla ISU Scholarship fund was founded by alumni of the International Space University (ISU) in 2010 to support Indian women\\'s participation in international space education programs.The Kalpana Chawla Memorial Scholarship program was instituted by the Indian Students Association (ISA) at the University of Texas at El Paso (UTEP) in 2005 for meritorious graduate students.The Kalpana Chawla Outstanding Recent Alumni Award at the University of Colorado, given since 1983, was renamed after Chawla.The University of Texas at Arlington, where Chawla obtained a Master of Science degree in aerospace engineering in 1984, opened a dormitory named Kalpana Chawla Hall in 2004. In addition, the university dedicated the Kalpana Chawla Memorial on 3 May 2010, in Nedderman Hall, one of the primary buildings in the College of Engineering.The girls\\' hostel at Punjab Engineering College is named after Chawla. In addition, an award of INR twenty-five thousand, a medal, and a certificate is instituted for the best student in the Aeronautical Engineering department.The Government of Haryana established the Kalpana Chawla Planetarium in Jyotisar, Kurukshetra.The Indian Institute of Technology, Kharagpur, named the Kalpana Chawla Space Technology Cell in her honor.Delhi Technological University named a girls\\' hostel block after Chawla.A military housing development at Naval Air Station Patuxent River, Maryland, has been named Columbia Colony and includes a street named Chawla Way.A hostel block in Pondicherry University has been named after Chawla.Kalpana Chawla Government Medical College (KCGMC) is a Medical College located in Karnal, Haryana, India named after Chawla.The National Institute of Technology Kurukshetra named a girls\\' hostel after Chawla.The National Institute of Technology Bhopal named girl\\'s hostel named KALPANA CHAWLA BHAWAN.  See also List of Asian Americans § SpaceList of female spacefarers References  Further reading Among the Stars!: Life and Dreams of Kalpana Chawla by Gurdeep PandherIndia\\'s 50 Most Illustrious Women (ISBN 81-88086-19-3) by Indra GuptaKalpana Chawla: A Life (ISBN 0-14-333586-3) by Anil PadmanabhanThe Edge of Time: The Authoritative Biography of Kalpana Chawla (ISBN 978-0976827917) by Jean-Pierre Harrison External links \"KALPANA CHAWLA (PH.D.)\". NASA. February 2003. Retrieved 7 May 2019.NASA biography']"
      ]
     },
     "execution_count": 33,
     "metadata": {},
     "output_type": "execute_result"
    }
   ],
   "source": [
    "Con_list"
   ]
  },
  {
   "cell_type": "code",
   "execution_count": null,
   "metadata": {},
   "outputs": [],
   "source": []
  },
  {
   "cell_type": "code",
   "execution_count": 34,
   "metadata": {},
   "outputs": [],
   "source": [
    "def get_cosine(vec1, vec2):\n",
    "    intersection = set(vec1.keys()) & set(vec2.keys())\n",
    "    numerator = sum([vec1[x] * vec2[x] for x in intersection])\n",
    "\n",
    "    sum1 = sum([vec1[x] ** 2 for x in list(vec1.keys())])\n",
    "    sum2 = sum([vec2[x] ** 2 for x in list(vec2.keys())])\n",
    "    denominator = math.sqrt(sum1) * math.sqrt(sum2)\n",
    "\n",
    "    if not denominator:\n",
    "        return 0.0\n",
    "    else:\n",
    "        return float(numerator) / denominator\n",
    "\n",
    "\n",
    "def text_to_vector(text):\n",
    "    words = WORD.findall(text)\n",
    "    return Counter(words)"
   ]
  },
  {
   "cell_type": "code",
   "execution_count": 35,
   "metadata": {},
   "outputs": [],
   "source": [
    "vector1 = text_to_vector(query) "
   ]
  },
  {
   "cell_type": "code",
   "execution_count": 36,
   "metadata": {},
   "outputs": [
    {
     "data": {
      "text/plain": [
       "Counter({'What': 1, 'kalpana': 1, 'chawla': 1, 'spoke': 1})"
      ]
     },
     "execution_count": 36,
     "metadata": {},
     "output_type": "execute_result"
    }
   ],
   "source": [
    "vector1"
   ]
  },
  {
   "cell_type": "code",
   "execution_count": 37,
   "metadata": {},
   "outputs": [
    {
     "data": {
      "text/plain": [
       "1"
      ]
     },
     "execution_count": 37,
     "metadata": {},
     "output_type": "execute_result"
    }
   ],
   "source": [
    "len(Con_list)"
   ]
  },
  {
   "cell_type": "markdown",
   "metadata": {},
   "source": [
    "##### Adding all text of Con_list "
   ]
  },
  {
   "cell_type": "code",
   "execution_count": 38,
   "metadata": {},
   "outputs": [],
   "source": [
    "text = \"\"\n",
    "for i in range(len(Con_list)) :\n",
    "    text += Con_list[i] \n",
    "    text += \" \""
   ]
  },
  {
   "cell_type": "code",
   "execution_count": 39,
   "metadata": {},
   "outputs": [
    {
     "data": {
      "text/plain": [
       "'Kalpana Chawla (17 March 1962 – 1 February 2003) was an American astronaut, engineer, and the first woman of Indian origin to go to space. She first flew on Space Shuttle Columbia in 1997 as a mission specialist and primary robotic arm operator. In 2003, Chawla was one of the seven crew members who died in the Space Shuttle Columbia disaster when the spacecraft disintegrated during its re-entry into the Earth\\'s atmosphere. Chawla was posthumously awarded the Congressional Space Medal of Honor, and several streets, universities, and institutions have been named in her honor. She is regarded as a national hero in India. Early life Kalpana Chawla was born on 17 March 1962, in Karnal of present-day Haryana, India, but her official date of birth was altered to 1 July 1961, to allow her to become eligible for the matriculation exam. As a child, she was fascinated by aeroplanes and flying. She went to local flying clubs and watched planes with her father. After getting a Bachelor of Engineering degree in Aeronautical Engineering from Punjab Engineering College, India, she moved to the United States in 1982 and obtained a Master of Science degree in Aerospace Engineering from the University of Texas at Arlington in 1984. Chawla went on to earn a second Masters in 1986 and a PhD in aerospace engineering in 1988 from the University of Colorado Boulder.Chawla was married to Jean-Pierre Harrison. Career In 1988, she began working at NASA Ames Research Center, where she did computational fluid dynamics (CFD) research on vertical and/or short take-off and landing (V/STOL) concepts. Much of Chawla\\'s research is included in technical journals and conference papers. In 1993, she joined Overset Methods, Inc. as Vice President and Research Scientist specializing in simulation of moving multiple body problems. Chawla held a Certificated Flight Instructor rating for airplanes, gliders and Commercial Pilot licenses for single and multi-engine airplanes, seaplanes and gliders. After becoming a naturalized U.S. citizen in April 1991, Chawla applied for the NASA Astronaut Corps. She joined the corps in March 1995 and was selected for her first flight in 1996. First space mission Her first space mission began on 19 November 1997, as part of the six-astronaut crew that flew the Space Shuttle Columbia flight STS-87. Chawla was the first Indian woman to fly in space. She spoke the following words while traveling in the weightlessness of space, \"You are just your intelligence.\" On her first mission, Chawla traveled over 10.4 million miles (16737177.6 km) in 252 orbits of the earth, logging more than 372 hours (15 days and 12 hours) in space. During STS-87, she was responsible for deploying the Spartan Satellite which malfunctioned, necessitating a spacewalk by Winston Scott and Takao Doi to capture the satellite. A five-month NASA investigation fully exonerated Chawla by identifying errors in software interfaces and the defined procedures of the flight crew and ground control. After the completion of STS-87 post-flight activities, Chawla was assigned to technical positions in the astronaut office to work on the space station. Second space mission In 2001, Chawla was selected for her second flight as part of the crew of STS-107. This mission was repeatedly delayed due to scheduling conflicts and technical problems such as the July 2002 discovery of cracks in the shuttle engine flow liners. On 16 January 2003, Chawla finally returned to space aboard Space Shuttle Columbia on the ill-fated STS-107 mission. The crew performed nearly 80 experiments studying Earth and space science, advanced technology development, and astronaut health and safety. During the launch of STS-107, Columbia\\'s 28th mission, a piece of foam insulation broke off from the Space Shuttle external tank and struck the left-wing of the orbiter. Previous shuttle launches had seen minor damage from foam shedding, but some engineers suspected that the damage to Columbia was more serious. NASA managers limited the investigation, reasoning that the crew could not have fixed the problem if it had been confirmed. When Columbia re-entered the atmosphere of Earth, the damage allowed hot atmospheric gases to penetrate and destroy the internal wing structure, which caused the spacecraft to become unstable and break apart. After the disaster, Space Shuttle flight operations were suspended for more than two years, similar to the aftermath of the Challenger disaster. Construction of the International Space Station (ISS) was put on hold; the station relied entirely on the Russian Roscosmos State Corporation for resupply for 29 months until Shuttle flights resumed with STS-114 and 41 months for crew rotation.Chawla died on 1 February 2003, in the Space Shuttle Columbia disaster, along with the other six crew members, when the Columbia disintegrated over Texas during re-entry into the Earth\\'s atmosphere, shortly before it was scheduled to conclude its 28th mission, STS-107. Her remains were identified along with those of the rest of the crew members and were cremated and scattered at Zion National Park in Utah in accordance with her wishes. Honors and recognition The fourteenth contracted Northrop Grumman Cygnus spacecraft mission delivering supplies to the ISS was named the \"S.S. Kalpana Chawla\" after her.Asteroid 51826 Kalpana chawla, one of seven named after the Columbia\\'s crew.On 5 February 2003, the Prime Minister of India, Atal Bihari Vajpayee announced that the meteorological series of satellites, MetSat, was to be renamed \"Kalpana\". The first satellite of the series, \"MetSat-1\", launched by India on 12 September 2002 was renamed \"Kalpana-1\".74th Street in the \"Little India\" of Jackson Heights, Queens, New York City, New York, United States has been renamed \"Kalpana Chawla Way\" in her honor.The Kalpana Chawla Award was instituted by the Government of Karnataka in 2004 to recognize young women scientists.NASA has dedicated a supercomputer to Chawla.One of Florida Institute of Technology\\'s student apartment complexes, Columbia Village Suites, has halls named after each of the astronauts, including Chawla.The NASA Mars Exploration Rover mission has named seven peaks in a chain of hills, named the Columbia Hills, after each of the seven astronauts lost in the Columbia shuttle disaster. One of them is Chawla Hill, named after Chawla.Steve Morse from the band Deep Purple created the song \"Contact Lost\" in memory of the Columbia tragedy along with her interest in the band. The song can be found on the album Bananas.Novelist Peter David named a shuttlecraft, the Chawla, after the astronaut in his 2007 Star Trek novel, Star Trek: The Next Generation: Before Dishonor.The Kalpana Chawla ISU Scholarship fund was founded by alumni of the International Space University (ISU) in 2010 to support Indian women\\'s participation in international space education programs.The Kalpana Chawla Memorial Scholarship program was instituted by the Indian Students Association (ISA) at the University of Texas at El Paso (UTEP) in 2005 for meritorious graduate students.The Kalpana Chawla Outstanding Recent Alumni Award at the University of Colorado, given since 1983, was renamed after Chawla.The University of Texas at Arlington, where Chawla obtained a Master of Science degree in aerospace engineering in 1984, opened a dormitory named Kalpana Chawla Hall in 2004. In addition, the university dedicated the Kalpana Chawla Memorial on 3 May 2010, in Nedderman Hall, one of the primary buildings in the College of Engineering.The girls\\' hostel at Punjab Engineering College is named after Chawla. In addition, an award of INR twenty-five thousand, a medal, and a certificate is instituted for the best student in the Aeronautical Engineering department.The Government of Haryana established the Kalpana Chawla Planetarium in Jyotisar, Kurukshetra.The Indian Institute of Technology, Kharagpur, named the Kalpana Chawla Space Technology Cell in her honor.Delhi Technological University named a girls\\' hostel block after Chawla.A military housing development at Naval Air Station Patuxent River, Maryland, has been named Columbia Colony and includes a street named Chawla Way.A hostel block in Pondicherry University has been named after Chawla.Kalpana Chawla Government Medical College (KCGMC) is a Medical College located in Karnal, Haryana, India named after Chawla.The National Institute of Technology Kurukshetra named a girls\\' hostel after Chawla.The National Institute of Technology Bhopal named girl\\'s hostel named KALPANA CHAWLA BHAWAN.  See also List of Asian Americans § SpaceList of female spacefarers References  Further reading Among the Stars!: Life and Dreams of Kalpana Chawla by Gurdeep PandherIndia\\'s 50 Most Illustrious Women (ISBN 81-88086-19-3) by Indra GuptaKalpana Chawla: A Life (ISBN 0-14-333586-3) by Anil PadmanabhanThe Edge of Time: The Authoritative Biography of Kalpana Chawla (ISBN 978-0976827917) by Jean-Pierre Harrison External links \"KALPANA CHAWLA (PH.D.)\". NASA. February 2003. Retrieved 7 May 2019.NASA biography '"
      ]
     },
     "execution_count": 39,
     "metadata": {},
     "output_type": "execute_result"
    }
   ],
   "source": [
    "text"
   ]
  },
  {
   "cell_type": "code",
   "execution_count": 40,
   "metadata": {},
   "outputs": [],
   "source": [
    "text = text.split(\".\")"
   ]
  },
  {
   "cell_type": "code",
   "execution_count": 41,
   "metadata": {},
   "outputs": [
    {
     "data": {
      "text/plain": [
       "['Kalpana Chawla (17 March 1962 – 1 February 2003) was an American astronaut, engineer, and the first woman of Indian origin to go to space',\n",
       " ' She first flew on Space Shuttle Columbia in 1997 as a mission specialist and primary robotic arm operator',\n",
       " \" In 2003, Chawla was one of the seven crew members who died in the Space Shuttle Columbia disaster when the spacecraft disintegrated during its re-entry into the Earth's atmosphere\",\n",
       " ' Chawla was posthumously awarded the Congressional Space Medal of Honor, and several streets, universities, and institutions have been named in her honor',\n",
       " ' She is regarded as a national hero in India',\n",
       " ' Early life Kalpana Chawla was born on 17 March 1962, in Karnal of present-day Haryana, India, but her official date of birth was altered to 1 July 1961, to allow her to become eligible for the matriculation exam',\n",
       " ' As a child, she was fascinated by aeroplanes and flying',\n",
       " ' She went to local flying clubs and watched planes with her father',\n",
       " ' After getting a Bachelor of Engineering degree in Aeronautical Engineering from Punjab Engineering College, India, she moved to the United States in 1982 and obtained a Master of Science degree in Aerospace Engineering from the University of Texas at Arlington in 1984',\n",
       " ' Chawla went on to earn a second Masters in 1986 and a PhD in aerospace engineering in 1988 from the University of Colorado Boulder',\n",
       " 'Chawla was married to Jean-Pierre Harrison',\n",
       " ' Career In 1988, she began working at NASA Ames Research Center, where she did computational fluid dynamics (CFD) research on vertical and/or short take-off and landing (V/STOL) concepts',\n",
       " \" Much of Chawla's research is included in technical journals and conference papers\",\n",
       " ' In 1993, she joined Overset Methods, Inc',\n",
       " ' as Vice President and Research Scientist specializing in simulation of moving multiple body problems',\n",
       " ' Chawla held a Certificated Flight Instructor rating for airplanes, gliders and Commercial Pilot licenses for single and multi-engine airplanes, seaplanes and gliders',\n",
       " ' After becoming a naturalized U',\n",
       " 'S',\n",
       " ' citizen in April 1991, Chawla applied for the NASA Astronaut Corps',\n",
       " ' She joined the corps in March 1995 and was selected for her first flight in 1996',\n",
       " ' First space mission Her first space mission began on 19 November 1997, as part of the six-astronaut crew that flew the Space Shuttle Columbia flight STS-87',\n",
       " ' Chawla was the first Indian woman to fly in space',\n",
       " ' She spoke the following words while traveling in the weightlessness of space, \"You are just your intelligence',\n",
       " '\" On her first mission, Chawla traveled over 10',\n",
       " '4 million miles (16737177',\n",
       " '6 km) in 252 orbits of the earth, logging more than 372 hours (15 days and 12 hours) in space',\n",
       " ' During STS-87, she was responsible for deploying the Spartan Satellite which malfunctioned, necessitating a spacewalk by Winston Scott and Takao Doi to capture the satellite',\n",
       " ' A five-month NASA investigation fully exonerated Chawla by identifying errors in software interfaces and the defined procedures of the flight crew and ground control',\n",
       " ' After the completion of STS-87 post-flight activities, Chawla was assigned to technical positions in the astronaut office to work on the space station',\n",
       " ' Second space mission In 2001, Chawla was selected for her second flight as part of the crew of STS-107',\n",
       " ' This mission was repeatedly delayed due to scheduling conflicts and technical problems such as the July 2002 discovery of cracks in the shuttle engine flow liners',\n",
       " ' On 16 January 2003, Chawla finally returned to space aboard Space Shuttle Columbia on the ill-fated STS-107 mission',\n",
       " ' The crew performed nearly 80 experiments studying Earth and space science, advanced technology development, and astronaut health and safety',\n",
       " \" During the launch of STS-107, Columbia's 28th mission, a piece of foam insulation broke off from the Space Shuttle external tank and struck the left-wing of the orbiter\",\n",
       " ' Previous shuttle launches had seen minor damage from foam shedding, but some engineers suspected that the damage to Columbia was more serious',\n",
       " ' NASA managers limited the investigation, reasoning that the crew could not have fixed the problem if it had been confirmed',\n",
       " ' When Columbia re-entered the atmosphere of Earth, the damage allowed hot atmospheric gases to penetrate and destroy the internal wing structure, which caused the spacecraft to become unstable and break apart',\n",
       " ' After the disaster, Space Shuttle flight operations were suspended for more than two years, similar to the aftermath of the Challenger disaster',\n",
       " ' Construction of the International Space Station (ISS) was put on hold; the station relied entirely on the Russian Roscosmos State Corporation for resupply for 29 months until Shuttle flights resumed with STS-114 and 41 months for crew rotation',\n",
       " \"Chawla died on 1 February 2003, in the Space Shuttle Columbia disaster, along with the other six crew members, when the Columbia disintegrated over Texas during re-entry into the Earth's atmosphere, shortly before it was scheduled to conclude its 28th mission, STS-107\",\n",
       " ' Her remains were identified along with those of the rest of the crew members and were cremated and scattered at Zion National Park in Utah in accordance with her wishes',\n",
       " ' Honors and recognition The fourteenth contracted Northrop Grumman Cygnus spacecraft mission delivering supplies to the ISS was named the \"S',\n",
       " 'S',\n",
       " ' Kalpana Chawla\" after her',\n",
       " \"Asteroid 51826 Kalpana chawla, one of seven named after the Columbia's crew\",\n",
       " 'On 5 February 2003, the Prime Minister of India, Atal Bihari Vajpayee announced that the meteorological series of satellites, MetSat, was to be renamed \"Kalpana\"',\n",
       " ' The first satellite of the series, \"MetSat-1\", launched by India on 12 September 2002 was renamed \"Kalpana-1\"',\n",
       " '74th Street in the \"Little India\" of Jackson Heights, Queens, New York City, New York, United States has been renamed \"Kalpana Chawla Way\" in her honor',\n",
       " 'The Kalpana Chawla Award was instituted by the Government of Karnataka in 2004 to recognize young women scientists',\n",
       " 'NASA has dedicated a supercomputer to Chawla',\n",
       " \"One of Florida Institute of Technology's student apartment complexes, Columbia Village Suites, has halls named after each of the astronauts, including Chawla\",\n",
       " 'The NASA Mars Exploration Rover mission has named seven peaks in a chain of hills, named the Columbia Hills, after each of the seven astronauts lost in the Columbia shuttle disaster',\n",
       " ' One of them is Chawla Hill, named after Chawla',\n",
       " 'Steve Morse from the band Deep Purple created the song \"Contact Lost\" in memory of the Columbia tragedy along with her interest in the band',\n",
       " ' The song can be found on the album Bananas',\n",
       " 'Novelist Peter David named a shuttlecraft, the Chawla, after the astronaut in his 2007 Star Trek novel, Star Trek: The Next Generation: Before Dishonor',\n",
       " \"The Kalpana Chawla ISU Scholarship fund was founded by alumni of the International Space University (ISU) in 2010 to support Indian women's participation in international space education programs\",\n",
       " 'The Kalpana Chawla Memorial Scholarship program was instituted by the Indian Students Association (ISA) at the University of Texas at El Paso (UTEP) in 2005 for meritorious graduate students',\n",
       " 'The Kalpana Chawla Outstanding Recent Alumni Award at the University of Colorado, given since 1983, was renamed after Chawla',\n",
       " 'The University of Texas at Arlington, where Chawla obtained a Master of Science degree in aerospace engineering in 1984, opened a dormitory named Kalpana Chawla Hall in 2004',\n",
       " ' In addition, the university dedicated the Kalpana Chawla Memorial on 3 May 2010, in Nedderman Hall, one of the primary buildings in the College of Engineering',\n",
       " \"The girls' hostel at Punjab Engineering College is named after Chawla\",\n",
       " ' In addition, an award of INR twenty-five thousand, a medal, and a certificate is instituted for the best student in the Aeronautical Engineering department',\n",
       " 'The Government of Haryana established the Kalpana Chawla Planetarium in Jyotisar, Kurukshetra',\n",
       " 'The Indian Institute of Technology, Kharagpur, named the Kalpana Chawla Space Technology Cell in her honor',\n",
       " \"Delhi Technological University named a girls' hostel block after Chawla\",\n",
       " 'A military housing development at Naval Air Station Patuxent River, Maryland, has been named Columbia Colony and includes a street named Chawla Way',\n",
       " 'A hostel block in Pondicherry University has been named after Chawla',\n",
       " 'Kalpana Chawla Government Medical College (KCGMC) is a Medical College located in Karnal, Haryana, India named after Chawla',\n",
       " \"The National Institute of Technology Kurukshetra named a girls' hostel after Chawla\",\n",
       " \"The National Institute of Technology Bhopal named girl's hostel named KALPANA CHAWLA BHAWAN\",\n",
       " '  See also List of Asian Americans § SpaceList of female spacefarers References  Further reading Among the Stars!: Life and Dreams of Kalpana Chawla by Gurdeep PandherIndia\\'s 50 Most Illustrious Women (ISBN 81-88086-19-3) by Indra GuptaKalpana Chawla: A Life (ISBN 0-14-333586-3) by Anil PadmanabhanThe Edge of Time: The Authoritative Biography of Kalpana Chawla (ISBN 978-0976827917) by Jean-Pierre Harrison External links \"KALPANA CHAWLA (PH',\n",
       " 'D',\n",
       " ')\"',\n",
       " ' NASA',\n",
       " ' February 2003',\n",
       " ' Retrieved 7 May 2019',\n",
       " 'NASA biography ']"
      ]
     },
     "execution_count": 41,
     "metadata": {},
     "output_type": "execute_result"
    }
   ],
   "source": [
    "text"
   ]
  },
  {
   "cell_type": "code",
   "execution_count": 42,
   "metadata": {},
   "outputs": [
    {
     "data": {
      "text/plain": [
       "78"
      ]
     },
     "execution_count": 42,
     "metadata": {},
     "output_type": "execute_result"
    }
   ],
   "source": [
    "len(text)"
   ]
  },
  {
   "cell_type": "code",
   "execution_count": null,
   "metadata": {},
   "outputs": [],
   "source": []
  },
  {
   "cell_type": "code",
   "execution_count": 43,
   "metadata": {},
   "outputs": [
    {
     "name": "stdout",
     "output_type": "stream",
     "text": [
      "Wall time: 3.05 ms\n"
     ]
    }
   ],
   "source": [
    "%%time \n",
    "\n",
    "max_score = {}\n",
    "for i in range(0,len(text)-1,1) :\n",
    "    context = text[i] + text[i+1]\n",
    "    vector2 = text_to_vector(context)\n",
    "    max_score[get_cosine(vector1,vector2)] = i \n",
    "\n",
    "l = list(max_score.items())\n",
    "l.sort(reverse=True)\n",
    "max_score= dict(l)\n",
    "    "
   ]
  },
  {
   "cell_type": "code",
   "execution_count": 44,
   "metadata": {},
   "outputs": [
    {
     "name": "stdout",
     "output_type": "stream",
     "text": [
      "\"you are just your intelligence\"\n",
      "And context is ....................\n",
      "\n",
      " She spoke the following words while traveling in the weightlessness of space, \"You are just your intelligence\" On her first mission, Chawla traveled over 10\n",
      "Wall time: 5.5 s\n"
     ]
    }
   ],
   "source": [
    "%%time\n",
    "ans = \"could not find an answer\"\n",
    "done = 0 \n",
    "for k in max_score :\n",
    "    index = max_score[k] \n",
    "    context = \"\"\n",
    "    if(index != len(text)-1) :\n",
    "        context = context = text[index] + text[index+1]\n",
    "    else :\n",
    "        context = context = text[index] + text[index-1]\n",
    "    ans = answer(query,context)\n",
    "    #print(ans,context)\n",
    "    #print(done)\n",
    "    done += 1 \n",
    "    if(ans != \"could not find an answer\" ) :\n",
    "        ans = ans.replace(\"[CLS]\",\"\")\n",
    "        ans = ans.replace(query.lower(),\"\")\n",
    "        \n",
    "        print(ans) \n",
    "        print(\"And context is ....................\\n\")\n",
    "        print(context)\n",
    "        break \n",
    "    if(done == 20) :\n",
    "        print(\"Sorry couldn't find a perfect answer !!!! :((\")\n",
    "        break \n",
    "        "
   ]
  },
  {
   "cell_type": "code",
   "execution_count": null,
   "metadata": {},
   "outputs": [],
   "source": []
  },
  {
   "cell_type": "code",
   "execution_count": 45,
   "metadata": {},
   "outputs": [],
   "source": [
    "def finding_answer(Con_list,query) :\n",
    "    vector1 = text_to_vector(query)\n",
    "    pattern3 = re.compile(r\"[\\n]+\")\n",
    "    pattern4 = re.compile(r\"[=]+\") \n",
    "    \n",
    "    for i in range(len(Con_list)) :\n",
    "        Con_list[i] = pattern3.sub(\"\",Con_list[i])\n",
    "        Con_list[i] = pattern4.sub(\"\",Con_list[i])\n",
    "    \n",
    "    text = \"\"\n",
    "    for i in range(len(Con_list)) :\n",
    "        text += Con_list[i] \n",
    "        text += \" \"\n",
    "        \n",
    "    text = text.split(\".\")\n",
    "    \n",
    "    \n",
    "    max_score = {}\n",
    "    for i in range(0,len(text)-1,1) :\n",
    "        context = text[i] + text[i+1]\n",
    "        vector2 = text_to_vector(context)\n",
    "        max_score[get_cosine(vector1,vector2)] = i \n",
    "\n",
    "    l = list(max_score.items())\n",
    "    l.sort(reverse=True)\n",
    "    max_score= dict(l)\n",
    "    \n",
    "    \n",
    "    ans = \"could not find an answer\"\n",
    "    done = 0 \n",
    "    for k in max_score :\n",
    "        index = max_score[k] \n",
    "        context = \"\"\n",
    "        if(index != len(text)-1) :\n",
    "            context = context = text[index] + text[index+1]\n",
    "        else :\n",
    "            context = context = text[index] + text[index-1]\n",
    "        ans = answer(query,context)\n",
    "        #print(ans,context)\n",
    "        #print(done)\n",
    "        done += 1 \n",
    "        if(ans != \"could not find an answer\" ) :\n",
    "            ans = ans.replace(\"[CLS]\",\"\")\n",
    "            ans = ans.replace(query.lower(),\"\")\n",
    "\n",
    "            print(ans) \n",
    "            print(\"And context is ....................\\n\")\n",
    "            print(context)\n",
    "            break \n",
    "        if(done == 20) :\n",
    "            print(\"Sorry couldn't find a perfect answer !!!! :((\")\n",
    "            break \n",
    "    \n",
    "    \n",
    "    \n",
    "    \n",
    "        \n",
    "        \n",
    "    \n",
    "    \n",
    "    "
   ]
  },
  {
   "cell_type": "code",
   "execution_count": 46,
   "metadata": {},
   "outputs": [],
   "source": [
    "def complete(query) :\n",
    "    query = query.lower()\n",
    "    print(\"Query is ..............\",query)\n",
    "    Con_list , num_type = all_preprocessing(query)\n",
    "    print()\n",
    "    #print(\"Done preprocessing\")\n",
    "    #print(Con_list ,\"is the content\")\n",
    "    if(num_type == 1) :\n",
    "        answer = finding_answer(Con_list,query)\n",
    "        print(answer)\n",
    "    \n",
    "    else :\n",
    "        print(Con_list)\n",
    "    "
   ]
  },
  {
   "cell_type": "code",
   "execution_count": 163,
   "metadata": {},
   "outputs": [
    {
     "name": "stdout",
     "output_type": "stream",
     "text": [
      "Query is .............. when ms dhoni made his debut for india\n",
      "Searching for .......     ['ms', 'dhoni', 'made', 'debut', 'india'] \n",
      "\n",
      "Here is the list of similar words you may be looking for ...............\n",
      "\n",
      "ms      ['mps', 'ms', 'cms', 'mes', 'rms'] \n",
      "\n",
      "dhoni      ['doi', 'don', 'donyi', 'dhvani', 'dhoni', 'dhondy', 'thondi', 'dhondo', 'dhani'] \n",
      "\n",
      "made      ['made', 'male', 'mandate', 'jade', 'aden', 'mahe', 'madhesi', 'remade', 'mande', 'mandare', 'maddale', 'mahadev', 'mandeep', 'maderna', 'mane'] \n",
      "\n",
      "debut      ['debut', 'but', 'deputy', 'debuts', 'debt', 'debutall', 'deb'] \n",
      "\n",
      "india      ['hindi', 'india', 'indian', 'indies', 'indiaall', 'india1933', 'indians', 'india1982', 'scindia', 'india1959', 'sindhi', 'nadia', 'indira', 'indonesia', 'india1950', 'india1932', 'india2013', 'india17th', 'india1919', 'india1907', 'india1952', 'india16th', 'india15th', 'india1879', 'india1984', 'gondia', 'india1937', 'india1956', 'india1898', 'india1977', 'india1973', 'india1925', 'indiaac', 'india1715', 'india14th', 'india1947', 'india1924', 'india1921', 'india1881', 'indiana', 'india1939', 'india1989', 'india1938', 'india1890', 'nadiad', 'india1930', 'india1917', 'indic', 'india1976', 'india1957', 'india11th', 'india1819', 'india1968', 'india1971', 'india1974', 'india19th', 'india1926', 'india1934', 'india150', 'induan', 'india1889', 'india365', 'india1941', 'indiaair', 'india1523', 'lindi', 'india1988', 'india1905', 'india1931', 'india1951', 'india1964', 'india1975', 'india1935', 'india1967', 'india12th', 'indie', 'india1928', 'india1980', 'sandia', 'india3rd', 'india21st', 'india1891', 'india1438', 'india20th', 'india1927', 'nadira', 'indra', 'dinda', 'shinda', 'incisa', 'indori', 'bindra', 'jindal', 'binita', 'vinda', 'dia', 'brinda', 'sindri'] \n",
      "\n",
      "If the suggestion is correct then press continue otherwise you can research your query\n",
      "1\n",
      "Added ....... MS Dhoni \n",
      "\n",
      "imp keyword is ................ ['MS Dhoni']\n",
      "Case 0\n",
      "\n",
      "  bihar cricket team dhoni made his ranji trophy debut for bihar in the 1999–2000 season, as an eighteen-year-old he made a half century in his debut match scoring 68* in the second innings against assam cricket team\n",
      "And context is ....................\n",
      "\n",
      " bihar cricket team dhoni made his ranji trophy debut for bihar in the 1999–2000 season, as an eighteen-year-old he made a half century in his debut match scoring 68* in the second innings against assam cricket team\n",
      "None\n",
      "Wall time: 4.44 s\n"
     ]
    }
   ],
   "source": [
    "%%time \n",
    "complete(\"when MS Dhoni made his debut for India\")"
   ]
  },
  {
   "cell_type": "markdown",
   "metadata": {},
   "source": [
    "### Sometimes the word you are searching for is not in the exact manner I've stores , so I can use the following code below written to find how I have stores that word in my database"
   ]
  },
  {
   "cell_type": "code",
   "execution_count": 159,
   "metadata": {},
   "outputs": [
    {
     "name": "stdout",
     "output_type": "stream",
     "text": [
      "Padmaja Rao 139\n",
      "Simon Oraon 211\n",
      "C. H. Hanumantha Rao 258\n",
      "Saluri Rajeshwara Rao 301\n",
      "Shamrao Madkaikar 405\n",
      "Madhusudan Rao 487\n",
      "P.V.Narasimha Rao 510\n",
      "T. R. Subba Rao 578\n",
      "Maya Rao 639\n",
      "Duvvuri Subbarao 655\n",
      "Baburao Govindrao Shirke 687\n",
      "Malhar Rao Holkar 720\n",
      "A. Ramana Rao 765\n",
      "Ganpatrao Deshmukh 772\n",
      "S. V. Ranga Rao 805\n",
      "Rao Kadam Singh 836\n",
      "Lalith J. Rao 848\n",
      "K.L. Rao 849\n",
      "Mysore Sadasiva Rao 960\n",
      "Varavara Rao 1114\n",
      "Muralidhar Rao 1310\n",
      "Kartik Oraon 1632\n",
      "V. Kasturi Ranga Varadarja Rao 1671\n",
      "Ramoji Rao 1690\n",
      "K. V. Krishna Rao 1811\n",
      "Baburaoji Parkhe 1841\n",
      "Rao Umrao Singh Bhati 2095\n",
      "Rao Hashim Khan 2363\n",
      "Dasari Narayana Rao 2489\n",
      "Srirangam Srinivasarao 2506\n",
      "Grandhi Mallikarjuna Rao 2535\n",
      "Manikrao Thakre 2540\n",
      "Kalvakuntla Chandrashekar Rao 2592\n",
      "Narla Tata Rao 2704\n",
      "A.N. Krishna Rao 2752\n",
      "Pamulaparthi Sadasiva Rao 2882\n",
      "A. S. Rao 2970\n",
      "Aluru Venkata Rao 3131\n",
      "Rao Tula Ram 3137\n",
      "Ghantasala Venkateswara Rao 3146\n",
      "Kaloji Narayana Rao 3174\n",
      "B. Narsing Rao 3187\n",
      "Joginder Rao 3214\n",
      "U. R. Rao 3275\n",
      "Burgula Ramakrishna Rao 3297\n",
      "Keshavrao Krishnarao Datey 3372\n",
      "Madhavrao I 3446\n",
      "A. N. Prahlada Rao 3483\n",
      "Nadendla Bhaskara Rao 3488\n",
      "Rajkummar Rao 3527\n",
      "Rao Gopal Singh Kharwa 3662\n",
      "Vasantrao Deshpande 3736\n",
      "T. Harish Rao 3749\n",
      "Raja Rao 3870\n",
      "Aditi Rao Hydari 3887\n",
      "Gummadi Vittal Rao 4162\n",
      "Tatyarao Lahane 4264\n",
      "Rao Sikandar Iqbal 4343\n",
      "P. Chandrasekhara Rao 4630\n",
      "Rao Farman Ali 4635\n",
      "Nirupama Rao 4657\n",
      "Yashwantrao Chavan 4773\n",
      "Jalagam Vengal Rao 4848\n",
      "Yalaka Venugopal Rao 4855\n",
      "Kiran Rao 4974\n",
      "Saluri Rajeswara Rao 5259\n",
      "Bhima Rao 5269\n",
      "S.R. Rao 5356\n",
      "N. T. Rama Rao 5413\n",
      "Kakarla Subba Rao 5509\n",
      "C. N. R. Rao 5569\n",
      "K. Raghavendra Rao 5668\n",
      "C. R. Rao 5718\n",
      "Huilgol Narayana Rao 5843\n",
      "Nandamuri Taraka Rama Rao 5915\n",
      "Akkineni Nageswara Rao 5928\n",
      "Brijendra Kumar Rao 5976\n",
      "Gundu Rao 5985\n",
      "Madhavrao Scindia 6058\n",
      "Nagnath Lalujirao Kottapalle 6099\n",
      "Kotcherlakota Rangadhama Rao 6177\n",
      "Keshavrao Jedhe 6179\n",
      "P. V. Narasimha Rao 6459\n",
      "Yashwantrao Holkar 6521\n",
      "Shilpa Rao 6531\n",
      "Gurazada Apparao 6543\n",
      "Rao Jodha 6566\n",
      "Dhulappa Bhaurao Navale 6578\n",
      "Maha Singh Rao 6932\n",
      "Tikait Umrao Singh 7012\n",
      "Rao Raja Hanut Singh 7043\n",
      "Rao Birender Singh 7079\n",
      "Vilasrao Deshmukh 7163\n",
      "Palle Rama Rao 7191\n",
      "Gururao Deshpande 7219\n",
      "Pratapsingh Raoji Rane 7297\n",
      "Kasinadhuni Nageswara Rao 7332\n",
      "Rajanala Kaleswara Rao 7419\n",
      "Kota Srinivasa Rao 7472\n",
      "K. T. Rama Rao 7574\n",
      "K. Chandrashekar Rao 7637\n",
      "Taranath Rao 7650\n",
      "N. T. Rama Rao Jr. 7908\n",
      "Vandana Rao 7970\n",
      "Rao Muhammad Afzal Khan 8009\n",
      "Manepalli Narayana Rao Venkatachaliah 8298\n",
      "M. V. Rao 8312\n",
      "Mandar Rao Dessai 8572\n",
      "VKRV Rao 8574\n",
      "C.N.R. Rao 8577\n",
      "B. Shankar Rao 8716\n",
      "Umrao Singh 8874\n",
      "Pingali Nagendra Rao 9066\n",
      "Maharao Shardul Singh 9160\n",
      "Rao Bika 9198\n",
      "Shankarrao Chavan 9218\n",
      "Bhaurao Patil 9227\n",
      "Akkineni Nageshwara Rao 9352\n",
      "Kanta Rao 9354\n",
      "Rayapati Sambasiva Rao 9376\n",
      "Nagaraja Rao Havaldar 9450\n",
      "Gummadi Venkateswara Rao 9583\n",
      "Dasari Prasada Rao 9601\n",
      "Patangrao Kadam 9636\n",
      "Jyotiraditya Madhavrao Scindia 9696\n",
      "Garikapati Narasimha Rao 9726\n",
      "Saluri Koteswara Rao 9729\n",
      "P. Kalinga Rao 9775\n",
      "Baji Rao I 10006\n",
      "C.R.Rao 10020\n",
      "Ammembal Subba Rao Pai 10082\n"
     ]
    }
   ],
   "source": [
    "\n",
    "\n",
    "for i in range(10088) :\n",
    "    if \"rao\" in title[i].lower() :\n",
    "        print(title[i],i)"
   ]
  },
  {
   "cell_type": "code",
   "execution_count": 107,
   "metadata": {},
   "outputs": [
    {
     "data": {
      "text/plain": [
       "'\\nProblem with searches like A.P.J or C.V\\n'"
      ]
     },
     "execution_count": 107,
     "metadata": {},
     "output_type": "execute_result"
    }
   ],
   "source": [
    "\"\"\"\n",
    "Problem with searches like A.P.J or C.V\n",
    "\"\"\""
   ]
  },
  {
   "cell_type": "code",
   "execution_count": 49,
   "metadata": {},
   "outputs": [
    {
     "name": "stdout",
     "output_type": "stream",
     "text": [
      "Wall time: 3.11 s\n"
     ]
    }
   ],
   "source": [
    "%%time \n",
    "\n",
    "import spacy\n",
    "nlp = spacy.load(\"en_core_web_sm\")\n"
   ]
  },
  {
   "cell_type": "code",
   "execution_count": 50,
   "metadata": {},
   "outputs": [
    {
     "name": "stdout",
     "output_type": "stream",
     "text": [
      "first PROPN\n",
      "test PROPN\n",
      "wickett PROPN\n",
      "of ADP\n",
      "jasprit PROPN\n",
      "bumrah PROPN\n",
      "Wall time: 115 ms\n"
     ]
    }
   ],
   "source": [
    "%%time\n",
    "doc = nlp(\"first test wickett of jasprit bumrah\")\n",
    "\n",
    "for tok in doc:\n",
    "    print(tok, tok.pos_)"
   ]
  },
  {
   "cell_type": "markdown",
   "metadata": {},
   "source": [
    "###### This births and deaths keyword can be used for counting primary keywords  "
   ]
  },
  {
   "cell_type": "code",
   "execution_count": 51,
   "metadata": {},
   "outputs": [
    {
     "name": "stdout",
     "output_type": "stream",
     "text": [
      "6513\n",
      "Wall time: 2.65 s\n"
     ]
    }
   ],
   "source": [
    "%%time\n",
    "count =  0 \n",
    "for i in range(10088) :\n",
    "    for j in range(len(data_categories[i])) :\n",
    "        if 'births' in data_categories[i][j]:\n",
    "            count += 1\n",
    "            break \n",
    "        if 'deaths' in data_categories[i][j] :\n",
    "            count += 1\n",
    "        \n",
    "            \n",
    "print(count)"
   ]
  },
  {
   "cell_type": "code",
   "execution_count": 140,
   "metadata": {},
   "outputs": [
    {
     "ename": "ValueError",
     "evalue": "list.remove(x): x not in list",
     "output_type": "error",
     "traceback": [
      "\u001b[1;31m---------------------------------------------------------------------------\u001b[0m",
      "\u001b[1;31mValueError\u001b[0m                                Traceback (most recent call last)",
      "\u001b[1;32m<ipython-input-140-ebf5f3296f8d>\u001b[0m in \u001b[0;36m<module>\u001b[1;34m\u001b[0m\n\u001b[0;32m      1\u001b[0m \u001b[0mtemp\u001b[0m \u001b[1;33m=\u001b[0m \u001b[1;33m[\u001b[0m\u001b[1;34m\"a\"\u001b[0m\u001b[1;33m,\u001b[0m\u001b[1;34m\"b\"\u001b[0m\u001b[1;33m,\u001b[0m\u001b[1;34m\"c\"\u001b[0m\u001b[1;33m]\u001b[0m\u001b[1;33m\u001b[0m\u001b[1;33m\u001b[0m\u001b[0m\n\u001b[1;32m----> 2\u001b[1;33m \u001b[0mtemp\u001b[0m\u001b[1;33m.\u001b[0m\u001b[0mremove\u001b[0m\u001b[1;33m(\u001b[0m\u001b[1;34m\"d\"\u001b[0m\u001b[1;33m)\u001b[0m\u001b[1;33m\u001b[0m\u001b[1;33m\u001b[0m\u001b[0m\n\u001b[0m",
      "\u001b[1;31mValueError\u001b[0m: list.remove(x): x not in list"
     ]
    }
   ],
   "source": [
    "temp = [\"a\",\"b\",\"c\"]\n",
    "temp.remove(\"d\")"
   ]
  },
  {
   "cell_type": "code",
   "execution_count": null,
   "metadata": {},
   "outputs": [],
   "source": []
  }
 ],
 "metadata": {
  "kernelspec": {
   "display_name": "Python 3",
   "language": "python",
   "name": "python3"
  },
  "language_info": {
   "codemirror_mode": {
    "name": "ipython",
    "version": 3
   },
   "file_extension": ".py",
   "mimetype": "text/x-python",
   "name": "python",
   "nbconvert_exporter": "python",
   "pygments_lexer": "ipython3",
   "version": "3.8.3"
  }
 },
 "nbformat": 4,
 "nbformat_minor": 4
}
